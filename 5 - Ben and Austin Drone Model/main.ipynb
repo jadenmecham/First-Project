{
 "cells": [
  {
   "cell_type": "markdown",
   "id": "4d7485af",
   "metadata": {},
   "source": [
    "# Main\n",
    "Notebook to run all the functions from other files. \n",
    "\n",
    "# Get Measurements\n",
    "Run drone model simulation to get simulated measurements for all states. "
   ]
  },
  {
   "cell_type": "code",
   "execution_count": null,
   "id": "01dfd59e",
   "metadata": {},
   "outputs": [],
   "source": [
    "# function to get all the simulated measurements from the model. Should all be in one dictionary. "
   ]
  },
  {
   "cell_type": "markdown",
   "id": "54c52cfa",
   "metadata": {},
   "source": [
    "# Sensors on the Drone\n",
    "\n",
    "Define what sensors are on the simulated drone and get the associated measurements from the dictionary."
   ]
  },
  {
   "cell_type": "code",
   "execution_count": null,
   "id": "b9c044cb",
   "metadata": {},
   "outputs": [],
   "source": [
    "# function that defines what sensors are on the drone and gets the simulated measurements from the model"
   ]
  },
  {
   "cell_type": "markdown",
   "id": "9fbc9cf4",
   "metadata": {},
   "source": [
    "## Unique Combination\n",
    "\n",
    "Compute all possible unique combination of sensors. "
   ]
  },
  {
   "cell_type": "code",
   "execution_count": null,
   "id": "77eff9fb",
   "metadata": {},
   "outputs": [],
   "source": [
    "# Function that returns every unique combination of sensors. "
   ]
  },
  {
   "cell_type": "markdown",
   "id": "2634c08f",
   "metadata": {},
   "source": [
    "# Set up and Run EKF\n",
    "\n",
    "Get state estimates from every unique combination of sensors. "
   ]
  },
  {
   "cell_type": "code",
   "execution_count": null,
   "id": "89142c75",
   "metadata": {},
   "outputs": [],
   "source": [
    "# function to run the EKF on every unique combination of sensors and return the results. Also plot the results. "
   ]
  },
  {
   "cell_type": "markdown",
   "id": "9f6c53ee",
   "metadata": {},
   "source": [
    "# Cramer Rao Bound\n",
    "Compute and plot the Cramer Rao bound. "
   ]
  },
  {
   "cell_type": "code",
   "execution_count": null,
   "id": "c53be85b",
   "metadata": {},
   "outputs": [],
   "source": [
    "# Function to compute cramer rao bound for every sensor combo for every time step. "
   ]
  },
  {
   "cell_type": "markdown",
   "id": "78db237e",
   "metadata": {},
   "source": [
    "## Sort out Untrustworthy Combinations\n",
    "\n",
    "Get rid of all the combinations where the Cramer Rao bound is super big. "
   ]
  },
  {
   "cell_type": "code",
   "execution_count": null,
   "id": "d44d7a86",
   "metadata": {},
   "outputs": [],
   "source": [
    "# Function to get rid of all the untrustworthy combinations and then re-plot the data. "
   ]
  },
  {
   "cell_type": "markdown",
   "id": "ae430d53",
   "metadata": {},
   "source": [
    "# Most Observable Times\n",
    "\n",
    "Find the times in the trajectory where the states are the most observable. "
   ]
  },
  {
   "cell_type": "code",
   "execution_count": null,
   "id": "97ea3549",
   "metadata": {},
   "outputs": [],
   "source": [
    "# Function to find where the states are the most observable. Replot the most observable sections for each state. "
   ]
  },
  {
   "cell_type": "markdown",
   "id": "38c31e0b",
   "metadata": {},
   "source": [
    "# Agreement Heatmap\n",
    "Compare all the sensor combinations to all others for every state and construct a heatmap to visualize how much they overlapo with one another. "
   ]
  },
  {
   "cell_type": "code",
   "execution_count": null,
   "id": "d05e5b31",
   "metadata": {},
   "outputs": [],
   "source": [
    "# Function to plot a heatmap for every state. "
   ]
  },
  {
   "cell_type": "markdown",
   "id": "b74e75b7",
   "metadata": {},
   "source": [
    "# Sensor Identification\n",
    "Based on the heatmaps, identify the faulty sensor. "
   ]
  },
  {
   "cell_type": "code",
   "execution_count": null,
   "id": "7aa02972",
   "metadata": {},
   "outputs": [],
   "source": [
    "# Function to id the sensot that is broken based on the adjacency matrix."
   ]
  }
 ],
 "metadata": {
  "kernelspec": {
   "display_name": "Python 3",
   "language": "python",
   "name": "python3"
  },
  "language_info": {
   "name": "python",
   "version": "3.8.10"
  }
 },
 "nbformat": 4,
 "nbformat_minor": 5
}

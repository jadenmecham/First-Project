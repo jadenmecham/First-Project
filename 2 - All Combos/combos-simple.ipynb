{
 "cells": [
  {
   "cell_type": "markdown",
   "metadata": {},
   "source": [
    "# All Combinations of a Matrix, Simple Testing Case\n",
    "\n",
    "I want to compute all unique combinations of rows for a matrix. "
   ]
  },
  {
   "cell_type": "code",
   "execution_count": 2,
   "metadata": {},
   "outputs": [
    {
     "name": "stdout",
     "output_type": "stream",
     "text": [
      "[[1 2]]\n",
      "[[4 4]]\n",
      "[[7 8]]\n",
      "[[1 2]\n",
      " [4 4]]\n",
      "[[1 2]\n",
      " [7 8]]\n",
      "[[4 4]\n",
      " [7 8]]\n",
      "[[1 2]\n",
      " [4 4]\n",
      " [7 8]]\n",
      "7\n",
      "\n",
      "\n"
     ]
    }
   ],
   "source": [
    "import itertools\n",
    "import numpy as np\n",
    "\n",
    "# Example matrix with 4 rows\n",
    "matrix = np.array([\n",
    "    [1, 2],\n",
    "    [4, 4],\n",
    "    [7, 8]])\n",
    "\n",
    "unique_combos = []\n",
    "\n",
    "# Get all unique combinations of rows\n",
    "num_rows = len(matrix)\n",
    "for r in range(1, num_rows + 1):  # r determines subset size\n",
    "    for combo in itertools.combinations(matrix, r):\n",
    "        print(np.array(combo))  # Each combo is a tuple of rows\n",
    "        unique_combos.append(combo)\n",
    "print(len(unique_combos))\n",
    "print()\n",
    "print()\n",
    "\n",
    "# now, make each unique combination into an array with a length of 4. Each empty row should be all zeroes. put all arrays into a list.\n",
    "padded_combos = []\n",
    "\n",
    "for combo in unique_combos:\n",
    "    padded_combo = np.zeros((3, matrix.shape[1]), dtype=int)\n",
    "    for i, row in enumerate(combo):\n",
    "        padded_combo[i] = row\n",
    "    padded_combos.append(padded_combo)\n",
    "\n",
    "\n"
   ]
  },
  {
   "cell_type": "markdown",
   "metadata": {},
   "source": [
    "Compute number of combinations for a 4 row matrix using what I learned in STAT 661 to check that code works right. "
   ]
  },
  {
   "cell_type": "code",
   "execution_count": 4,
   "metadata": {},
   "outputs": [
    {
     "name": "stdout",
     "output_type": "stream",
     "text": [
      "15\n"
     ]
    }
   ],
   "source": [
    "import math\n",
    "\n",
    "four_choose_one = math.comb(4, 1)\n",
    "four_choose_two = math.comb(4, 2)\n",
    "four_choose_three = math.comb(4, 3)\n",
    "four_choose_four = math.comb(4, 4)\n",
    "\n",
    "combos_manual = four_choose_one + four_choose_two + four_choose_three + four_choose_four\n",
    "\n",
    "print(combos_manual)"
   ]
  }
 ],
 "metadata": {
  "kernelspec": {
   "display_name": "Python 3",
   "language": "python",
   "name": "python3"
  },
  "language_info": {
   "codemirror_mode": {
    "name": "ipython",
    "version": 3
   },
   "file_extension": ".py",
   "mimetype": "text/x-python",
   "name": "python",
   "nbconvert_exporter": "python",
   "pygments_lexer": "ipython3",
   "version": "3.8.10"
  }
 },
 "nbformat": 4,
 "nbformat_minor": 2
}

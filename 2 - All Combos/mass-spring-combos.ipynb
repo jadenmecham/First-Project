{
 "cells": [
  {
   "cell_type": "markdown",
   "metadata": {},
   "source": [
    "# Spring Mass System - All Combos for C\n"
   ]
  },
  {
   "cell_type": "markdown",
   "metadata": {},
   "source": [
    "Set up the synamics of a spring mass system. also generate all possible combinations of rows of the C matrix."
   ]
  },
  {
   "cell_type": "code",
   "execution_count": 48,
   "metadata": {},
   "outputs": [],
   "source": [
    "import numpy as np\n",
    "import pandas as pd\n",
    "import matplotlib.pyplot as plt\n",
    "from filterpy.kalman import KalmanFilter\n",
    "from scipy.linalg import expm\n",
    "from scipy.signal import cont2discrete\n",
    "import itertools\n",
    "\n",
    "# Spring-mass-damper parameters\n",
    "m = 1.0  # Mass (kg)\n",
    "c = 0.5  # Damping coefficient (Ns/m)\n",
    "k = 2.0  # Spring constant (N/m)\n",
    "\n",
    "# Continuous-time state-space matrices\n",
    "A_c = np.array([[0, 1],\n",
    "                [-k/m, -c/m]])\n",
    "B_c = np.array([[0],\n",
    "                [1/m]])\n",
    "\n",
    "C_true = np.eye(2)\n",
    "\n",
    "# Start off with the full C matrix\n",
    "Cbig = np.array([\n",
    "    [1, 0],\n",
    "    [0, 1],\n",
    "    [1, 1]\n",
    "])\n",
    "# Now, compute all unique combinations of C rows\n",
    "unique_combos = []\n",
    "\n",
    "# Get all unique combinations of rows\n",
    "num_rows = len(Cbig)\n",
    "for r in range(1, num_rows + 1):  # r determines subset size\n",
    "    for combo in itertools.combinations(Cbig, r):\n",
    "        #print(np.array(combo))  # Each combo is a tuple of rows\n",
    "        unique_combos.append(combo)\n",
    "\n",
    "C = []\n",
    "\n",
    "for combo in unique_combos:\n",
    "    padded_combo = np.zeros((3, Cbig.shape[1]), dtype=int)\n",
    "    for i, row in enumerate(combo):\n",
    "        padded_combo[i] = row\n",
    "    C.append(padded_combo)\n",
    "\n",
    "# Process and measurement noise\n",
    "Q = 1e-4*np.eye(2)  # Process noise covariance\n",
    "R = 0.05*np.eye(2) # Measurement noise covariance\n",
    "\n",
    "# Discrete time system for kalman filter\n",
    "dt = 0.1  # Time step\n",
    "A_d = expm(A_c * dt)\n",
    "B_d = np.linalg.solve(A_c, (A_d - np.eye(2))) @ B_c\n",
    "\n",
    "# Initial conditions\n",
    "x0 = np.array([1.0, 0.0])  # Initial displacement and velocity"
   ]
  },
  {
   "cell_type": "markdown",
   "metadata": {},
   "source": [
    "Now, simulate the true system. "
   ]
  },
  {
   "cell_type": "code",
   "execution_count": 49,
   "metadata": {},
   "outputs": [],
   "source": [
    "# Simulate the true system\n",
    "np.random.seed(42)\n",
    "n_steps = 100 \n",
    "true_states = []\n",
    "measurements = []\n",
    "for _ in range(n_steps):\n",
    "    # Simulate true dynamics\n",
    "    x_true = A_d @ x0 + np.random.multivariate_normal([0, 0], Q).T\n",
    "    true_states.append(x_true)\n",
    "\n",
    "    # Simulate noisy measurements\n",
    "    z = C_true @ x_true + np.random.multivariate_normal([0, 0], R).T\n",
    "    measurements.append(z)\n",
    "\n",
    "    # Update for the next time step\n",
    "    x0 = x_true\n",
    "\n",
    "true_states = np.array(true_states)\n",
    "measurements = np.array(measurements)"
   ]
  },
  {
   "cell_type": "markdown",
   "metadata": {},
   "source": [
    "Then, use the kalman filter to generate state estimates for every combination of C. Make sure to use the 3 sigma range to set up the uncertainty range. "
   ]
  },
  {
   "cell_type": "code",
   "execution_count": 50,
   "metadata": {},
   "outputs": [
    {
     "ename": "ValueError",
     "evalue": "operands could not be broadcast together with shapes (2,) (3,) ",
     "output_type": "error",
     "traceback": [
      "\u001b[0;31m---------------------------------------------------------------------------\u001b[0m",
      "\u001b[0;31mValueError\u001b[0m                                Traceback (most recent call last)",
      "Cell \u001b[0;32mIn[50], line 23\u001b[0m\n\u001b[1;32m     21\u001b[0m \u001b[38;5;28;01mfor\u001b[39;00m j \u001b[38;5;129;01min\u001b[39;00m \u001b[38;5;28mrange\u001b[39m(\u001b[38;5;28mlen\u001b[39m(measurements)): \u001b[38;5;66;03m# use kalman filter to estimate the state and add it to my dataframe\u001b[39;00m\n\u001b[1;32m     22\u001b[0m     kf\u001b[38;5;241m.\u001b[39mpredict()\n\u001b[0;32m---> 23\u001b[0m     \u001b[43mkf\u001b[49m\u001b[38;5;241;43m.\u001b[39;49m\u001b[43mupdate\u001b[49m\u001b[43m(\u001b[49m\u001b[43mmeasurements\u001b[49m\u001b[43m[\u001b[49m\u001b[43mj\u001b[49m\u001b[43m]\u001b[49m\u001b[43m)\u001b[49m\n\u001b[1;32m     24\u001b[0m     data_at_this_C\u001b[38;5;241m.\u001b[39miloc[j, \u001b[38;5;241m0\u001b[39m]\u001b[38;5;241m=\u001b[39m kf\u001b[38;5;241m.\u001b[39mx[\u001b[38;5;241m0\u001b[39m]\n\u001b[1;32m     25\u001b[0m     data_at_this_C\u001b[38;5;241m.\u001b[39miloc[j, \u001b[38;5;241m1\u001b[39m] \u001b[38;5;241m=\u001b[39m kf\u001b[38;5;241m.\u001b[39mx[\u001b[38;5;241m1\u001b[39m]\n",
      "File \u001b[0;32m~/.local/lib/python3.8/site-packages/filterpy/kalman/kalman_filter.py:537\u001b[0m, in \u001b[0;36mKalmanFilter.update\u001b[0;34m(self, z, R, H)\u001b[0m\n\u001b[1;32m    533\u001b[0m     H \u001b[38;5;241m=\u001b[39m \u001b[38;5;28mself\u001b[39m\u001b[38;5;241m.\u001b[39mH\n\u001b[1;32m    535\u001b[0m \u001b[38;5;66;03m# y = z - Hx\u001b[39;00m\n\u001b[1;32m    536\u001b[0m \u001b[38;5;66;03m# error (residual) between measurement and prediction\u001b[39;00m\n\u001b[0;32m--> 537\u001b[0m \u001b[38;5;28mself\u001b[39m\u001b[38;5;241m.\u001b[39my \u001b[38;5;241m=\u001b[39m \u001b[43mz\u001b[49m\u001b[43m \u001b[49m\u001b[38;5;241;43m-\u001b[39;49m\u001b[43m \u001b[49m\u001b[43mdot\u001b[49m\u001b[43m(\u001b[49m\u001b[43mH\u001b[49m\u001b[43m,\u001b[49m\u001b[43m \u001b[49m\u001b[38;5;28;43mself\u001b[39;49m\u001b[38;5;241;43m.\u001b[39;49m\u001b[43mx\u001b[49m\u001b[43m)\u001b[49m\n\u001b[1;32m    539\u001b[0m \u001b[38;5;66;03m# common subexpression for speed\u001b[39;00m\n\u001b[1;32m    540\u001b[0m PHT \u001b[38;5;241m=\u001b[39m dot(\u001b[38;5;28mself\u001b[39m\u001b[38;5;241m.\u001b[39mP, H\u001b[38;5;241m.\u001b[39mT)\n",
      "\u001b[0;31mValueError\u001b[0m: operands could not be broadcast together with shapes (2,) (3,) "
     ]
    }
   ],
   "source": [
    "nums = np.zeros(shape=(n_steps, 4))\n",
    "data = []\n",
    "\n",
    "for i in range(len(C)):\n",
    "    system = (A_c, B_c, np.eye(2), 0)\n",
    "    A_d, B_d, _, _, _ = cont2discrete(system, dt)\n",
    "    Q = np.eye(2) * 1e-4\n",
    "    R = np.eye(C[i].shape[0]) * 0.05\n",
    "\n",
    "    # Kalman Filter setup\n",
    "    kf = KalmanFilter(dim_x=2, dim_z=2)\n",
    "    kf.F = A_d  # Discretized A matrix\n",
    "    kf.H = C[i]  # Measurement matrix C\n",
    "    kf.Q = Q  # Process noise covariance Q\n",
    "    kf.R = R  # Measurement noise covariance R\n",
    "    kf.P = np.eye(2) * 500  # Initial state covariance P\n",
    "    kf.x = x0  # Initial state estimate\n",
    "\n",
    "    data_at_this_C = pd.DataFrame(nums, columns=['position', 'velocity', 'position uncertainty', 'velocity uncertainty'])\n",
    "    \n",
    "    for j in range(len(measurements)): # use kalman filter to estimate the state and add it to my dataframe\n",
    "        kf.predict()\n",
    "        kf.update(measurements[j])\n",
    "        data_at_this_C.iloc[j, 0]= kf.x[0]\n",
    "        data_at_this_C.iloc[j, 1] = kf.x[1]\n",
    "        three_sigma = 3 * np.sqrt(np.diag(kf.P)) # make sure to multiply by 3 for 3 sigma!!\n",
    "        data_at_this_C.iloc[j, 2]= three_sigma[0]\n",
    "        data_at_this_C.iloc[j, 3] = three_sigma[1]\n",
    "    \n",
    "    data.append(data_at_this_C.copy())"
   ]
  }
 ],
 "metadata": {
  "kernelspec": {
   "display_name": "Python 3",
   "language": "python",
   "name": "python3"
  },
  "language_info": {
   "codemirror_mode": {
    "name": "ipython",
    "version": 3
   },
   "file_extension": ".py",
   "mimetype": "text/x-python",
   "name": "python",
   "nbconvert_exporter": "python",
   "pygments_lexer": "ipython3",
   "version": "3.8.10"
  }
 },
 "nbformat": 4,
 "nbformat_minor": 2
}

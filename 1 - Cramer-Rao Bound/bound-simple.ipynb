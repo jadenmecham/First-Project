{
 "cells": [
  {
   "cell_type": "markdown",
   "metadata": {},
   "source": [
    "# Simple Case Using Cramer Rao Bound"
   ]
  },
  {
   "cell_type": "markdown",
   "metadata": {},
   "source": [
    "Set up a spring-mass-damper system as a simple example to try this concept. Start by defining the system dynamics. "
   ]
  },
  {
   "cell_type": "code",
   "execution_count": 126,
   "metadata": {},
   "outputs": [],
   "source": [
    "import numpy as np\n",
    "import pandas as pd\n",
    "import matplotlib.pyplot as plt\n",
    "from filterpy.kalman import KalmanFilter\n",
    "from scipy.linalg import expm\n",
    "from scipy.signal import cont2discrete\n",
    "\n",
    "# Spring-mass-damper parameters\n",
    "m = 1.0  # Mass (kg)\n",
    "c = 0.5  # Damping coefficient (Ns/m)\n",
    "k = 2.0  # Spring constant (N/m)\n",
    "\n",
    "# Continuous-time state-space matrices\n",
    "A_c = np.array([[0, 1],\n",
    "                [-k/m, -c/m]])\n",
    "B_c = np.array([[0],\n",
    "                [1/m]])\n",
    "C_true = np.eye(2)\n",
    "\n",
    "C = [\n",
    "    np.array([[1, 0], [0, 1]]),\n",
    "    np.array([[1, 0], [0, 0]]),\n",
    "    np.array([[0, 0], [0, 1]])\n",
    "]\n",
    "# Process and measurement noise\n",
    "Q = np.array([[1e-4, 0], \n",
    "              [0, 1e-4]])  # Process noise covariance\n",
    "R = np.array([[0.05, 0], \n",
    "              [0, 0.05]])  # Measurement noise covariance\n",
    "\n",
    "# Discrete time system for kalman filter\n",
    "dt = 0.1  # Time step\n",
    "A_d = expm(A_c * dt)\n",
    "B_d = np.linalg.solve(A_c, (A_d - np.eye(2))) @ B_c\n",
    "\n",
    "# Initial conditions\n",
    "x0 = np.array([1.0, 0.0])  # Initial displacement and velocity\n"
   ]
  },
  {
   "cell_type": "markdown",
   "metadata": {},
   "source": [
    "Now, simulate the true system. "
   ]
  },
  {
   "cell_type": "code",
   "execution_count": 127,
   "metadata": {},
   "outputs": [],
   "source": [
    "# Simulate the true system\n",
    "np.random.seed(42)\n",
    "n_steps = 100 \n",
    "true_states = []\n",
    "measurements = []\n",
    "for _ in range(n_steps):\n",
    "    # Simulate true dynamics\n",
    "    x_true = A_d @ x0 + np.random.multivariate_normal([0, 0], Q).T\n",
    "    true_states.append(x_true)\n",
    "\n",
    "    # Simulate noisy measurements\n",
    "    z = C_true @ x_true + np.random.multivariate_normal([0, 0], R).T\n",
    "    measurements.append(z)\n",
    "\n",
    "    # Update for the next time step\n",
    "    x0 = x_true\n",
    "\n",
    "true_states = np.array(true_states)\n",
    "measurements = np.array(measurements)"
   ]
  },
  {
   "cell_type": "markdown",
   "metadata": {},
   "source": [
    "Then, use the  Kalman filter to generate state estimates from simulated measurments. Make sure to use the 3 sigma bound to set up the estimation range. This block runs the Kalman Filter for every subgroup of C matrices. "
   ]
  },
  {
   "cell_type": "code",
   "execution_count": null,
   "metadata": {},
   "outputs": [
    {
     "name": "stdout",
     "output_type": "stream",
     "text": [
      "    position  velocity  position uncertainty  velocity uncertainty\n",
      "0        0.0       0.0                   0.0                   0.0\n",
      "1        0.0       0.0                   0.0                   0.0\n",
      "2        0.0       0.0                   0.0                   0.0\n",
      "3        0.0       0.0                   0.0                   0.0\n",
      "4        0.0       0.0                   0.0                   0.0\n",
      "..       ...       ...                   ...                   ...\n",
      "95       0.0       0.0                   0.0                   0.0\n",
      "96       0.0       0.0                   0.0                   0.0\n",
      "97       0.0       0.0                   0.0                   0.0\n",
      "98       0.0       0.0                   0.0                   0.0\n",
      "99       0.0       0.0                   0.0                   0.0\n",
      "\n",
      "[100 rows x 4 columns]\n"
     ]
    }
   ],
   "source": [
    "nums = np.zeros(shape=(n_steps, 4))\n",
    "c1_data = pd.DataFrame(nums, columns=['position', 'velocity', 'position uncertainty', 'velocity uncertainty'])\n",
    "c2_data = pd.DataFrame(nums, columns=['position', 'velocity', 'position uncertainty', 'velocity uncertainty'])\n",
    "c3_data = pd.DataFrame(nums, columns=['position', 'velocity', 'position uncertainty', 'velocity uncertainty'])\n",
    "\n",
    "for i in range(len(C)):\n",
    "    system = (A_c, B_c, np.eye(2), 0)\n",
    "    A_d, B_d, _, _, _ = cont2discrete(system, dt)\n",
    "    Q = np.eye(2) * 1e-4\n",
    "    R = np.eye(2) * 0.05\n",
    "\n",
    "    # Kalman Filter setup\n",
    "    kf = KalmanFilter(dim_x=2, dim_z=2)\n",
    "    kf.F = A_d  # Discretized A matrix\n",
    "    kf.H = C[i]  # Measurement matrix C\n",
    "    kf.Q = Q  # Process noise covariance Q\n",
    "    kf.R = R  # Measurement noise covariance R\n",
    "    kf.P = np.eye(2) * 500  # Initial state covariance P\n",
    "    kf.x = x0  # Initial state estimate\n",
    "\n",
    "    state_at_this_C = []\n",
    "    uncertainty_at_this_C = []\n",
    "\n",
    "    for z in measurements:\n",
    "        kf.predict()\n",
    "        kf.update(z)\n",
    "        state_at_this_C.append(kf.x.copy())\n",
    "        uncertainty_at_this_C.append(3 * np.sqrt(np.diag(kf.P))) # make sure to multiply by 3 for 3 sigma!!!\n"
   ]
  },
  {
   "cell_type": "markdown",
   "metadata": {},
   "source": [
    "Finally, plot the results. "
   ]
  },
  {
   "cell_type": "code",
   "execution_count": 129,
   "metadata": {},
   "outputs": [],
   "source": [
    "# Plot results\n"
   ]
  }
 ],
 "metadata": {
  "kernelspec": {
   "display_name": "Python 3",
   "language": "python",
   "name": "python3"
  },
  "language_info": {
   "codemirror_mode": {
    "name": "ipython",
    "version": 3
   },
   "file_extension": ".py",
   "mimetype": "text/x-python",
   "name": "python",
   "nbconvert_exporter": "python",
   "pygments_lexer": "ipython3",
   "version": "3.8.10"
  }
 },
 "nbformat": 4,
 "nbformat_minor": 2
}
